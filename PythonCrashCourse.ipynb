{
 "cells": [
  {
   "cell_type": "markdown",
   "id": "0eb2138a",
   "metadata": {},
   "source": [
    "# What is Python\n",
    "\n",
    "Python is a high level programming language which allows you to execute programs very quickly.\n",
    "There are a couple of buzzwords you should familiarize yourself with, in order to truly appreciate \n",
    "and understand what Python has to offer:\n",
    "- Object-oriented\n",
    "- interpreted\n",
    "\n",
    "## Object-orientation\n",
    "When it comes to computer programming, there is often a problem in mind that one wants to be able to solve.\n",
    "Some examples are:\n",
    "- Developing schedules for students at a high school\n",
    "- Calculating dosages for drugs, give input information for a patient\n",
    "- Determining what day of the week a given data was on   \n",
    "\n",
    "A very popular way to think about these projects, and the principal which underpins all of Python, is that of an `object`.\n",
    "An object is a fancy name for what you have identify as an important/relevant collection of information.\n",
    "Some examples for the above list problmes are\n",
    "- Developing schedules for students at a high school\n",
    "    - Schedule: subjects, room numbers\n",
    "    - Student: name, grade, schedule\n",
    "- Calculating dosages for drugs, give input information for a patient\n",
    "    - Drug: name, drugs it can be mixed with, drugs it can't be mixed with\n",
    "    - Patient: name, age, weight, diagnosis, current drugs\n",
    "- Determining what day of the week a given data was on   \n",
    "    - None\n",
    "    \n",
    "The basic idea is that you can break your big problem up into a bunch of smaller tasks, solve all these \n",
    "smaller tasks, and then combine all those solutions to solve our big problem. \n",
    "But note that not all problems always need the full force of thinking in objects, some may just require simple \n",
    "computation.\n",
    "By the end of this mini tutorial we will have solved all of the above list problems using Python.\n",
    "\n",
    "## Interpreted languages\n",
    "Programming languages are examples of human-readible instructions/descriptions you want to give the computer\n",
    "to execute. \n",
    "We say human-readible because all a computer understands is 0s and 1s.\n",
    "Therefore, there has to be an intermediary which translates our human-readible code into machine code (the 0s and 1s).\n",
    "For interpreted languages, this process is very simple: we simply pass our code to an existing program (in our case Python)\n",
    "and it goes through the code line-by-line and tells the computer how to understand it.\n",
    "This is important to understand because it executes your lines of code sequentially."
   ]
  },
  {
   "cell_type": "markdown",
   "id": "079155c8",
   "metadata": {},
   "source": [
    "# Let's get to the basics\n",
    "\n",
    "All computer languages have the concepts of `variables` and `functions` built into them.\n",
    "These are variables and functions much in the sense of mathematics:\n",
    "- Variables: can assume some value (integers, decimals, letters, sentence and more)\n",
    "- Functions: Often take some number of variables and do something with these\n",
    "\n",
    "To declare a variable, we simple write the name, an equal sign and what value we want to assign to the variable.\n",
    "Some examples are \n",
    "- `var = 3`\n",
    "- `name = \"Kevin\"`\n",
    "- `height = 70`\n",
    "\n",
    "The rules for writing variable names are:\n",
    "- It can start with any upper or lower case letter or an underscore `_`, it cannot start with a number\n",
    "- It can contain any letter or number or underscore, but not symbols like `-`,`/`,`!`, etc\n",
    "\n",
    "Two common wayes of writing descriptive variable names are camel-case and snake-case:\n",
    "- Camel-case: `WordsSeparatedWithCaps`\n",
    "- Snake-case: `words_separated_with_underscores`\n",
    "\n",
    "Function names follow the same rules as variable names. \n",
    "To declare a function in Python we preceed its name with `def` and append a list of arguments which are comma\n",
    "separated and enclosed by a pair of parentheses (we will see an example shortly), followed by a colon.\n",
    "In Python, the body of the function is all indented under the function name, and is either ended by a `return` statement\n",
    "or an end of indentation:   \n",
    "\n",
    "We now give a couple example functions, the first one takes a name, age and birthday and prints them out to the screen\n",
    "The second one takes no arguments and simply prints the function name, and third returns the square of two numbers.\n",
    "1. \n",
    "```python\n",
    "    def PrintPerson(name, birthday, age):\n",
    "        print(f\"{name} Is {age} years old, and their birhtday is {birthday}\")\n",
    "```\n",
    "1. \n",
    "```python\n",
    "    def RandomFunction():\n",
    "        print(\"RandomFunction()\")\n",
    "```\n",
    "1. \n",
    "```python\n",
    "    def Square(x):\n",
    "        return x * x\n",
    "```\n",
    "\n",
    "Note that `print` itself is a function that takes in a `string` (characters enclosed in quotation marks) as its arguments, and outputs it to the screen."
   ]
  },
  {
   "cell_type": "code",
   "execution_count": 9,
   "id": "14204448",
   "metadata": {
    "collapsed": true
   },
   "outputs": [
    {
     "name": "stdout",
     "output_type": "stream",
     "text": [
      "Kevin is 25 years old, and their birthday is October 10th.\n",
      "Kevin is 25 years old, and their birthday is October 10th\n"
     ]
    },
    {
     "ename": "NameError",
     "evalue": "name 'Kevin' is not defined",
     "output_type": "error",
     "traceback": [
      "\u001b[1;31m---------------------------------------------------------------------------\u001b[0m",
      "\u001b[1;31mNameError\u001b[0m                                 Traceback (most recent call last)",
      "\u001b[1;32m<ipython-input-9-b3ad635490ef>\u001b[0m in \u001b[0;36m<module>\u001b[1;34m\u001b[0m\n\u001b[0;32m      4\u001b[0m \u001b[1;33m\u001b[0m\u001b[0m\n\u001b[0;32m      5\u001b[0m \u001b[0mPrintPerson\u001b[0m\u001b[1;33m(\u001b[0m\u001b[1;34m\"Kevin\"\u001b[0m\u001b[1;33m,\u001b[0m \u001b[1;34m\"October 10th\"\u001b[0m\u001b[1;33m,\u001b[0m \u001b[1;36m25\u001b[0m\u001b[1;33m)\u001b[0m\u001b[1;33m\u001b[0m\u001b[1;33m\u001b[0m\u001b[0m\n\u001b[1;32m----> 6\u001b[1;33m \u001b[0mPrintPerson\u001b[0m\u001b[1;33m(\u001b[0m\u001b[0mKevin\u001b[0m\u001b[1;33m,\u001b[0m \u001b[1;34m\"October 10th\"\u001b[0m\u001b[1;33m,\u001b[0m \u001b[1;36m25\u001b[0m\u001b[1;33m)\u001b[0m\u001b[1;33m\u001b[0m\u001b[1;33m\u001b[0m\u001b[0m\n\u001b[0m",
      "\u001b[1;31mNameError\u001b[0m: name 'Kevin' is not defined"
     ]
    }
   ],
   "source": [
    "def PrintPerson(name, bd, age):\n",
    "    print(f\"{name} is {age} years old, and their birthday is {bd}.\") # f-string\n",
    "    print(\"{} is {} years old, and their birthday is {}\".format(name, age, bd)) # format-string\n",
    "    \n",
    "PrintPerson(\"Kevin\", \"October 10th\", 25)\n",
    "PrintPerson(Kevin, \"October 10th\", 25)   # Error: Name `Kevin` is not defined"
   ]
  },
  {
   "cell_type": "markdown",
   "id": "85e40e5f",
   "metadata": {},
   "source": [
    "### Important technical detail\n",
    "Python does not care about the `type` of a variable.\n",
    "When I say type, I want you think of \n",
    "- `Integers` or `int`: integral numbers $\\ldots,-1,0,1,\\ldots$\n",
    "- `Floating point` or `float`: decimal numbers like $10/3$ or $0.125$\n",
    "- `object`: these are any objects/classes you define (we will get to these soon).\n",
    "\n",
    "In the function `Square(x)` above, Python will accept any thing you pass to it, and if it makes sense to multiple (the multiplication operation is define), it will apply it. If not, will give you an error.\n",
    "Because of the ambiguity in what `x` should be, it can be hard to predict how your program will run until you have tried to \n",
    "execute.\n",
    "For this reason, it is important to get experience working with Python functions and variables and error messages"
   ]
  },
  {
   "cell_type": "code",
   "execution_count": 14,
   "id": "70d17f9b",
   "metadata": {},
   "outputs": [
    {
     "name": "stdout",
     "output_type": "stream",
     "text": [
      "<class 'str'>\n",
      "<class 'int'>\n",
      "<class 'float'>\n",
      "<class 'function'>\n"
     ]
    }
   ],
   "source": [
    "print(type(\"x\"))\n",
    "print(type(10))\n",
    "print(type(10.))\n",
    "\n",
    "print(type(PrintPerson))"
   ]
  },
  {
   "cell_type": "markdown",
   "id": "83a9eee8",
   "metadata": {},
   "source": [
    "# Assignment 1\n",
    "Write a function that takes two variables and returns their sum"
   ]
  },
  {
   "cell_type": "code",
   "execution_count": 3,
   "id": "77bdf32a",
   "metadata": {},
   "outputs": [],
   "source": []
  },
  {
   "cell_type": "markdown",
   "id": "13ec4081",
   "metadata": {},
   "source": [
    "# Classes (objects)\n",
    "Now we finally introduce how we can create our own types by creating objects.\n",
    "These objects are also called `classes`.\n",
    "The name of a class follows the same rules as the name for a variable. \n",
    "To declare a class you must preceed the class name with the word `class` followed by a colon.\n",
    "We give an example of two classes and then describe in detail what all the code is, that we have added.\n",
    "(This will be a little involved)\n",
    "\n",
    "```python\n",
    "class Period:\n",
    "    def __init__(self, subject, time):\n",
    "        self.subject = subject\n",
    "        self.time = time\n",
    "        \n",
    "    def change_subject(self, new_subject):\n",
    "        self.subject = new_subject\n",
    "        \n",
    "    def change_time(self, new_time):\n",
    "        self.time = new_time\n",
    "        \n",
    "class Schedule:\n",
    "    def __init__(self, period_1, period_2, period_3):\n",
    "        self.period_1 = period_1\n",
    "        self.period_2 = period_2\n",
    "        self.period_3 = period_3\n",
    "        \n",
    "    def PrintSchedule(self):\n",
    "        print(f\"Subject                    Time\")\n",
    "        print(f\"{self.period_1.subject}    {self.perido_1.time}\") \n",
    "        print(f\"{self.period_2.subject}    {self.perido_2.time}\") \n",
    "        print(f\"{self.period_3.subject}    {self.perido_3.time}\") \n",
    "```\n",
    "When we write code, we sometimes want to describe what we are doing inside the code,\n",
    "we can do this by adding comments, comments are ignored by the interpreter when excuting the code\n",
    "Python has two ways to add a comments\n",
    "- The pound `#`: this is a one-line comment, and anything that follows this will be ignored by the interpreter\n",
    "- The triple quote `'''` or `\"\"\"`: this is a multi-line comment, any thing between a pair of triple quotes will be ignored.\n",
    "\n",
    "We can now add some comments to help us understand what the code does\n",
    "```python\n",
    "class Period:\n",
    "    '''\n",
    "    Every class which stores some amount of information needs an `__init__` function\n",
    "    This initialize the class with all the information we want it to contain\n",
    "    '''\n",
    "    def __init__(self, subject, time):\n",
    "        # the word self refers to class itself, and the information it contains\n",
    "        self.subject = subject\n",
    "        self.time = time\n",
    "        \n",
    "    def change_subject(self, new_subject):\n",
    "        self.subject = new_subject\n",
    "        \n",
    "    def change_time(self, new_time):\n",
    "        self.time = new_time\n",
    "        \n",
    "class Schedule:\n",
    "    '''\n",
    "    We create a schedule with three periods\n",
    "    '''\n",
    "    def __init__(self, period_1, period_2, period_3):\n",
    "        self.period_1 = period_1\n",
    "        self.period_2 = period_2\n",
    "        self.period_3 = period_3\n",
    "        \n",
    "    def PrintSchedule(self):\n",
    "        ''' Every member function of a class, must have self as the first argument '''\n",
    "        print(f\"Subject                    Time\")\n",
    "        # To access the periods information, we us the `.` and the name of the data we want to access\n",
    "        print(f\"{self.period_1.subject}    {self.perido_1.time}\") \n",
    "        print(f\"{self.period_2.subject}    {self.perido_2.time}\") \n",
    "        print(f\"{self.period_3.subject}    {self.perido_3.time}\") \n",
    "```\n",
    "As the comments suggest, when we create a class and want it to contain some amount of data, we have to delcare\n",
    "an `__init__` function.\n",
    "This function always takes as its first argument the keyword `self`, this word means the class if referring to itself.\n",
    "That is to say, in the two function\n",
    "```python\n",
    "def __init__(self, argument_1):\n",
    "    self.data = argument_1\n",
    "\n",
    "def __init__(self, argument_1):\n",
    "    data = argument_1\n",
    "```\n",
    "the first one says that my class has stored `data` within itself (it owns it) which we could access at any time using the `.`, \n",
    "whereas the second one declares a variable name data and just sets it equal to the first argument (it does not own the variable).\n",
    "We refer to variable which the class owns as `members` and to functions that the class owns as `methods`.   \n",
    "\n",
    "Every method declared in the class must take as its first argument the keyword `self`.\n",
    "Within the function, anytime you want to refer to a member of method, you must do so by prepending the member or function \n",
    "name with a `self.` (as in the functions `Period.change_subject` and `Period.change_time`). "
   ]
  },
  {
   "cell_type": "code",
   "execution_count": 25,
   "id": "c115925e",
   "metadata": {},
   "outputs": [],
   "source": [
    "class Student:\n",
    "    def __init__(self, name, grade):\n",
    "        self.name = name\n",
    "        self.grade = grade\n",
    "        \n",
    "    def Print(self):\n",
    "        print(f'Name:  {self.name}')\n",
    "        print(f'Grade: {self.grade}')"
   ]
  },
  {
   "cell_type": "code",
   "execution_count": 26,
   "id": "263c3b98",
   "metadata": {},
   "outputs": [
    {
     "name": "stdout",
     "output_type": "stream",
     "text": [
      "Name:  Kevin\n",
      "Grade: 20\n"
     ]
    }
   ],
   "source": [
    "student_1 = Student(\"Kevin\", 20) # instance of the Student class\n",
    "student_1.Print()"
   ]
  },
  {
   "cell_type": "markdown",
   "id": "7ba8cbd4",
   "metadata": {},
   "source": [
    "# Built-in types\n",
    "A preference for a programming language is usually determined by its `built-in types` and the availability of third-party code which facilitates the execution of the tasks you wish to complete.   \n",
    "\n",
    "The built-in types for Python are `list`, `dictionary`, `set` and `tuple`. Below we describe them in a bit more detail:  \n",
    "\n",
    "| Built-in Type | Description |\n",
    "| :---    | :---- |\n",
    "| `list` | As the name suggests, this can be a list containing any type of variable in Python. You can access any entry in the list by specifying its location in the list. |\n",
    "| `dictionary` | Much like the list, this two can contain any variable type, but instead of specifying its location with a number, we specify its location with a unique `key` | \n",
    "| `set` | fill in ... |\n",
    "| `tuple` | This is identical to a list, but has the property that you cannot change the value stored in any specific position in the list |\n",
    "\n",
    "Please refer to this code snippet to see what the above table means in practice\n",
    "- Lists\n",
    "\n",
    "```python\n",
    "''' \n",
    "example of a list:\n",
    "     - List are always identified with square brackets\n",
    "     - When creating a list, you always comma separate the entries\n",
    "     - The first entry in the list is at position 0\n",
    "'''\n",
    "list_example = [\"a\", 20, 0.5] # Contains any variable type\n",
    "print(list_example)           # returns ['a', 20, 0.5]\n",
    "\n",
    "list_example[0] = \"dog\"\n",
    "print(list_example)           # returns ['dog', 20, 0.5]\n",
    "\n",
    "list_example[1] = \"dog\"\n",
    "print(list_example)           # returns ['dog', 'dog', 0.5]\n",
    "```"
   ]
  },
  {
   "cell_type": "code",
   "execution_count": 37,
   "id": "c6a19daf",
   "metadata": {},
   "outputs": [
    {
     "name": "stdout",
     "output_type": "stream",
     "text": [
      "<class 'list'>\n",
      "<class 'set'>\n",
      "=============\n",
      "[1, 2, 2, 3, 3, 3]\n",
      "{1, 2, 3}\n",
      "=============\n",
      "a\n"
     ]
    },
    {
     "ename": "TypeError",
     "evalue": "'set' object is not subscriptable",
     "output_type": "error",
     "traceback": [
      "\u001b[1;31m---------------------------------------------------------------------------\u001b[0m",
      "\u001b[1;31mTypeError\u001b[0m                                 Traceback (most recent call last)",
      "\u001b[1;32m<ipython-input-37-59cebe64f902>\u001b[0m in \u001b[0;36m<module>\u001b[1;34m\u001b[0m\n\u001b[0;32m     12\u001b[0m \u001b[0my\u001b[0m \u001b[1;33m=\u001b[0m \u001b[1;33m{\u001b[0m\u001b[1;34m\"a\"\u001b[0m\u001b[1;33m,\u001b[0m \u001b[1;36m20\u001b[0m\u001b[1;33m,\u001b[0m \u001b[1;36m0.5\u001b[0m\u001b[1;33m}\u001b[0m\u001b[1;33m\u001b[0m\u001b[1;33m\u001b[0m\u001b[0m\n\u001b[0;32m     13\u001b[0m \u001b[0mprint\u001b[0m\u001b[1;33m(\u001b[0m\u001b[0mx\u001b[0m\u001b[1;33m[\u001b[0m\u001b[1;36m0\u001b[0m\u001b[1;33m]\u001b[0m\u001b[1;33m)\u001b[0m\u001b[1;33m\u001b[0m\u001b[1;33m\u001b[0m\u001b[0m\n\u001b[1;32m---> 14\u001b[1;33m \u001b[0mprint\u001b[0m\u001b[1;33m(\u001b[0m\u001b[0my\u001b[0m\u001b[1;33m[\u001b[0m\u001b[1;36m1\u001b[0m\u001b[1;33m]\u001b[0m\u001b[1;33m)\u001b[0m\u001b[1;33m\u001b[0m\u001b[1;33m\u001b[0m\u001b[0m\n\u001b[0m",
      "\u001b[1;31mTypeError\u001b[0m: 'set' object is not subscriptable"
     ]
    }
   ],
   "source": [
    "print(type([1, 2]))\n",
    "print(type({1, 2}))\n",
    "\n",
    "print('=============')\n",
    "\n",
    "print([1,2,2,3,3,3])\n",
    "print({1,2,2,3,3,3})\n",
    "\n",
    "print('=============')\n",
    "\n",
    "x = [\"a\", 20, 0.5]\n",
    "y = {\"a\", 20, 0.5}\n",
    "print(x[0])\n",
    "print(y[1])"
   ]
  },
  {
   "cell_type": "code",
   "execution_count": 34,
   "id": "e0f16cac",
   "metadata": {},
   "outputs": [
    {
     "name": "stdout",
     "output_type": "stream",
     "text": [
      "<class 'dict'>\n",
      "{'a': 2, 'b': 3}\n",
      "<class 'tuple'>\n",
      "(1, 2, 3)\n"
     ]
    }
   ],
   "source": [
    "print(type({'a': 2, 'b': 3}))\n",
    "print({'a': 2, 'b': 3})\n",
    "\n",
    "print(type( (1,2,3) ))\n",
    "print( (1,2,3) )"
   ]
  },
  {
   "cell_type": "markdown",
   "id": "8fff6764",
   "metadata": {},
   "source": [
    "- Dictionaries\n",
    "\n",
    "```python\n",
    "'''\n",
    "example of a dictionary:\n",
    "    - Dictionaries are a list of (key, value) pairs\n",
    "    - They car enclosed in curly braces and follow the pattern {key: value, ...}\n",
    "    - To access any value, we need to provide the appropriate key\n",
    "'''\n",
    "dict_example = {\"boy\": 10, \"girl\": 20, 50: \"blue\"}    # keys and values could be of any type\n",
    "print(dict_example)                                   # {\"boy\": 10, \"girl\": 20, \"car\": \"blue\"}\n",
    "\n",
    "print(dict_example[\"boy\"])     # return 10\n",
    "print(dict_example[50])        # return blue\n",
    "\n",
    "dict_example[\"boy\"] = 12\n",
    "print(dict_example)            # {\"boy\": 12, \"girl\": 20, \"car\": \"blue\"}\n",
    "\n",
    "\n",
    "dict_example[\"bou\"] = 12\n",
    "print(dict_example)            # {\"boy\": 12, \"girl\": 20, \"car\": \"blue\", \"bou\": 12}\n",
    "```"
   ]
  },
  {
   "cell_type": "code",
   "execution_count": 38,
   "id": "5cf1626b",
   "metadata": {},
   "outputs": [
    {
     "ename": "TypeError",
     "evalue": "'tuple' object does not support item assignment",
     "output_type": "error",
     "traceback": [
      "\u001b[1;31m---------------------------------------------------------------------------\u001b[0m",
      "\u001b[1;31mTypeError\u001b[0m                                 Traceback (most recent call last)",
      "\u001b[1;32m<ipython-input-38-58ef2a6df4af>\u001b[0m in \u001b[0;36m<module>\u001b[1;34m\u001b[0m\n\u001b[0;32m      1\u001b[0m \u001b[0mz\u001b[0m \u001b[1;33m=\u001b[0m \u001b[1;33m(\u001b[0m\u001b[1;36m1\u001b[0m\u001b[1;33m,\u001b[0m \u001b[1;36m2\u001b[0m\u001b[1;33m,\u001b[0m \u001b[1;36m3\u001b[0m\u001b[1;33m)\u001b[0m\u001b[1;33m\u001b[0m\u001b[1;33m\u001b[0m\u001b[0m\n\u001b[1;32m----> 2\u001b[1;33m \u001b[0mz\u001b[0m\u001b[1;33m[\u001b[0m\u001b[1;36m1\u001b[0m\u001b[1;33m]\u001b[0m \u001b[1;33m=\u001b[0m \u001b[1;36m10\u001b[0m\u001b[1;33m\u001b[0m\u001b[1;33m\u001b[0m\u001b[0m\n\u001b[0m",
      "\u001b[1;31mTypeError\u001b[0m: 'tuple' object does not support item assignment"
     ]
    }
   ],
   "source": [
    "z = (1, 2, 3)\n",
    "z[1] = 10"
   ]
  },
  {
   "cell_type": "code",
   "execution_count": null,
   "id": "35a3a0e0",
   "metadata": {},
   "outputs": [],
   "source": []
  }
 ],
 "metadata": {
  "kernelspec": {
   "display_name": "Python 3",
   "language": "python",
   "name": "python3"
  },
  "language_info": {
   "codemirror_mode": {
    "name": "ipython",
    "version": 3
   },
   "file_extension": ".py",
   "mimetype": "text/x-python",
   "name": "python",
   "nbconvert_exporter": "python",
   "pygments_lexer": "ipython3",
   "version": "3.7.3"
  }
 },
 "nbformat": 4,
 "nbformat_minor": 5
}
